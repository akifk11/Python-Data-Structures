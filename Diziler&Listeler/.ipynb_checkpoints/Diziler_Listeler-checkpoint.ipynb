{
 "cells": [
  {
   "cell_type": "markdown",
   "id": "ece7f398-7f5e-47a4-94cc-2a9b6ebf06c7",
   "metadata": {},
   "source": [
    "# Diziler ve Listeler"
   ]
  },
  {
   "cell_type": "code",
   "execution_count": 1,
   "id": "39257224-ab34-4dfc-91b6-7f6ed49b935d",
   "metadata": {},
   "outputs": [],
   "source": [
    "# Array List Stack Queue Deque\n",
    "# bu bölümde göreceğimiz kavramlar"
   ]
  },
  {
   "cell_type": "code",
   "execution_count": 4,
   "id": "3b761915-bbcf-4973-a1ea-513c9325b298",
   "metadata": {},
   "outputs": [],
   "source": [
    "# Arrayler pek değişmez Listeler ise esnektir \n",
    "# pythonda biz daha çok listeleri kullanırız"
   ]
  },
  {
   "cell_type": "code",
   "execution_count": 5,
   "id": "0ad54f60-6291-4597-b78c-65c56c4753c5",
   "metadata": {},
   "outputs": [],
   "source": [
    "# list\n",
    "myList=[1,2,3,4,5]"
   ]
  },
  {
   "cell_type": "code",
   "execution_count": 6,
   "id": "6cd2f6dc-9b17-4524-9430-f9a287637621",
   "metadata": {},
   "outputs": [
    {
     "data": {
      "text/plain": [
       "list"
      ]
     },
     "execution_count": 6,
     "metadata": {},
     "output_type": "execute_result"
    }
   ],
   "source": [
    "type(myList)"
   ]
  },
  {
   "cell_type": "code",
   "execution_count": 7,
   "id": "5bb6c034-a9a2-40e4-af48-371d3e36efce",
   "metadata": {},
   "outputs": [],
   "source": [
    "# dizi biraz daha sabittir  10 tane eleman alacak dersin ve hafızada ona göre yerini ayırır"
   ]
  },
  {
   "cell_type": "code",
   "execution_count": 8,
   "id": "f164b96d-001a-4592-9c47-d6b49e1db14e",
   "metadata": {},
   "outputs": [],
   "source": [
    "myList.append(7)"
   ]
  },
  {
   "cell_type": "code",
   "execution_count": 9,
   "id": "9ef01a8d-2f32-47a5-8c4f-31ab66a6b2f2",
   "metadata": {},
   "outputs": [
    {
     "data": {
      "text/plain": [
       "[1, 2, 3, 4, 5, 7]"
      ]
     },
     "execution_count": 9,
     "metadata": {},
     "output_type": "execute_result"
    }
   ],
   "source": [
    "myList"
   ]
  },
  {
   "cell_type": "code",
   "execution_count": 10,
   "id": "d8fa772c-1a6b-44f8-8e1d-7432bd34fe59",
   "metadata": {},
   "outputs": [],
   "source": [
    "# array iki türlü oluşur bir böyle birde numpy kütüphanesi ile\n",
    "import array as arr"
   ]
  },
  {
   "cell_type": "code",
   "execution_count": 11,
   "id": "226deee2-bbb4-465a-85da-843fc4fb4b37",
   "metadata": {},
   "outputs": [],
   "source": [
    "myArray=arr.array(\"i\",[1,2,3,4])"
   ]
  },
  {
   "cell_type": "code",
   "execution_count": 12,
   "id": "c29dee1b-3429-473b-8513-054f83ee594f",
   "metadata": {},
   "outputs": [
    {
     "data": {
      "text/plain": [
       "array('i', [1, 2, 3, 4])"
      ]
     },
     "execution_count": 12,
     "metadata": {},
     "output_type": "execute_result"
    }
   ],
   "source": [
    "myArray"
   ]
  },
  {
   "cell_type": "code",
   "execution_count": 13,
   "id": "fe9ba909-e4d6-414c-8dc7-c877a6461d68",
   "metadata": {},
   "outputs": [],
   "source": [
    "myArray.append(5)"
   ]
  },
  {
   "cell_type": "code",
   "execution_count": 14,
   "id": "ab4ef871-67b0-4c23-8b38-e5c252a33ade",
   "metadata": {},
   "outputs": [
    {
     "data": {
      "text/plain": [
       "array('i', [1, 2, 3, 4, 5])"
      ]
     },
     "execution_count": 14,
     "metadata": {},
     "output_type": "execute_result"
    }
   ],
   "source": [
    "myArray"
   ]
  },
  {
   "cell_type": "code",
   "execution_count": 15,
   "id": "e8365342-07d7-4053-a79b-2badf987829b",
   "metadata": {},
   "outputs": [],
   "source": [
    "otherList=[6,8,9]"
   ]
  },
  {
   "cell_type": "code",
   "execution_count": 16,
   "id": "583f8845-8a0e-40b2-a9a9-d064ac79b3b2",
   "metadata": {},
   "outputs": [],
   "source": [
    "myList.extend(otherList)"
   ]
  },
  {
   "cell_type": "code",
   "execution_count": 17,
   "id": "370addfa-fe02-4649-b1a5-5f684b0256db",
   "metadata": {},
   "outputs": [
    {
     "data": {
      "text/plain": [
       "[1, 2, 3, 4, 5, 7, 6, 8, 9]"
      ]
     },
     "execution_count": 17,
     "metadata": {},
     "output_type": "execute_result"
    }
   ],
   "source": [
    "myList"
   ]
  },
  {
   "cell_type": "code",
   "execution_count": 18,
   "id": "e020d4b4-a2e2-48e5-ab35-c69e31bccdf9",
   "metadata": {},
   "outputs": [],
   "source": [
    "result=[0]*8"
   ]
  },
  {
   "cell_type": "code",
   "execution_count": 19,
   "id": "59d76546-63be-4874-aab5-eab764ff5acb",
   "metadata": {},
   "outputs": [
    {
     "data": {
      "text/plain": [
       "[0, 0, 0, 0, 0, 0, 0, 0]"
      ]
     },
     "execution_count": 19,
     "metadata": {},
     "output_type": "execute_result"
    }
   ],
   "source": [
    "result"
   ]
  },
  {
   "cell_type": "code",
   "execution_count": 20,
   "id": "4561c7b1-6aa2-44a3-8b14-b4b8f9534bed",
   "metadata": {},
   "outputs": [
    {
     "data": {
      "text/plain": [
       "list"
      ]
     },
     "execution_count": 20,
     "metadata": {},
     "output_type": "execute_result"
    }
   ],
   "source": [
    "type(result)"
   ]
  },
  {
   "cell_type": "code",
   "execution_count": 21,
   "id": "398d9915-895e-4c68-bc52-b7baffaf4bd8",
   "metadata": {},
   "outputs": [],
   "source": [
    "import sys"
   ]
  },
  {
   "cell_type": "code",
   "execution_count": 31,
   "id": "72caab75-4a29-446b-84eb-4f37d492e5f5",
   "metadata": {},
   "outputs": [
    {
     "name": "stdout",
     "output_type": "stream",
     "text": [
      "Length:0 Byte:56\n",
      "Length:1 Byte:88\n",
      "Length:2 Byte:88\n",
      "Length:3 Byte:88\n",
      "Length:4 Byte:88\n",
      "Length:5 Byte:120\n",
      "Length:6 Byte:120\n",
      "Length:7 Byte:120\n",
      "Length:8 Byte:120\n",
      "Length:9 Byte:184\n",
      "Length:10 Byte:184\n",
      "Length:11 Byte:184\n",
      "Length:12 Byte:184\n",
      "Length:13 Byte:184\n",
      "Length:14 Byte:184\n",
      "Length:15 Byte:184\n",
      "Length:16 Byte:184\n",
      "Length:17 Byte:248\n",
      "Length:18 Byte:248\n",
      "Length:19 Byte:248\n",
      "Length:20 Byte:248\n",
      "Length:21 Byte:248\n",
      "Length:22 Byte:248\n",
      "Length:23 Byte:248\n",
      "Length:24 Byte:248\n",
      "Length:25 Byte:312\n",
      "Length:26 Byte:312\n",
      "Length:27 Byte:312\n",
      "Length:28 Byte:312\n",
      "Length:29 Byte:312\n"
     ]
    }
   ],
   "source": [
    "n=30\n",
    "myDynamicArray=[]\n",
    "\n",
    "for i in range(n):\n",
    "        myLength=len(myDynamicArray)\n",
    "        myByte=sys.getsizeof(myDynamicArray)\n",
    "        print(f\"Length:{myLength} Byte:{myByte}\")\n",
    "        myDynamicArray.append(n)"
   ]
  },
  {
   "cell_type": "markdown",
   "id": "fc3a863f-26ec-4d91-a46a-854c4c25f68e",
   "metadata": {},
   "source": [
    "## Contains Duplicate-Microsoft-Leetcode"
   ]
  },
  {
   "cell_type": "code",
   "execution_count": 47,
   "id": "0927315c-d2de-4035-aa65-a2756bbe0bbd",
   "metadata": {},
   "outputs": [],
   "source": [
    "myList=[1,2,3,4,5,6,2]"
   ]
  },
  {
   "cell_type": "code",
   "execution_count": 34,
   "id": "9efba400-ecda-42d9-a41a-b8169e273e4b",
   "metadata": {},
   "outputs": [
    {
     "name": "stdout",
     "output_type": "stream",
     "text": [
      "0 0\n",
      "0 1\n",
      "0 2\n",
      "0 3\n",
      "0 4\n",
      "0 5\n",
      "1 0\n",
      "1 1\n",
      "1 2\n",
      "1 3\n",
      "1 4\n",
      "1 5\n",
      "2 0\n",
      "2 1\n",
      "2 2\n",
      "2 3\n",
      "2 4\n",
      "2 5\n",
      "3 0\n",
      "3 1\n",
      "3 2\n",
      "3 3\n",
      "3 4\n",
      "3 5\n",
      "4 0\n",
      "4 1\n",
      "4 2\n",
      "4 3\n",
      "4 4\n",
      "4 5\n",
      "5 0\n",
      "5 1\n",
      "5 2\n",
      "5 3\n",
      "5 4\n",
      "5 5\n"
     ]
    }
   ],
   "source": [
    "#ilk mantık\n",
    "for i in range(0,len(myList)):\n",
    "    for j in range(0,len(myList)):\n",
    "        print(i,j)"
   ]
  },
  {
   "cell_type": "code",
   "execution_count": 70,
   "id": "955c5d26-f40c-45a1-8c63-19d9ae0f7aba",
   "metadata": {},
   "outputs": [],
   "source": [
    "myList=[1,2,3,4,5,6,2]"
   ]
  },
  {
   "cell_type": "code",
   "execution_count": 69,
   "id": "f116d2bd-5f5c-4afb-9bbf-8069b9faa1fe",
   "metadata": {},
   "outputs": [],
   "source": [
    "def solution():\n",
    "    hashSet=set()\n",
    "    for num in myList:\n",
    "        if num in hashSet:\n",
    "            return True\n",
    "        hashSet.add(num)\n",
    "    return False"
   ]
  },
  {
   "cell_type": "code",
   "execution_count": 73,
   "id": "b7060f17-3381-4afb-ae75-5de68282d9bc",
   "metadata": {},
   "outputs": [
    {
     "data": {
      "text/plain": [
       "True"
      ]
     },
     "execution_count": 73,
     "metadata": {},
     "output_type": "execute_result"
    }
   ],
   "source": [
    "solution()"
   ]
  },
  {
   "cell_type": "code",
   "execution_count": 75,
   "id": "b6c778b0-809e-40f8-8303-f3f1d5f21e88",
   "metadata": {},
   "outputs": [],
   "source": [
    "def solution2():\n",
    "    return myList!=len(set(myList))"
   ]
  },
  {
   "cell_type": "code",
   "execution_count": 76,
   "id": "6c26c97b-bdde-4b48-bd02-94a0e287f521",
   "metadata": {},
   "outputs": [
    {
     "data": {
      "text/plain": [
       "True"
      ]
     },
     "execution_count": 76,
     "metadata": {},
     "output_type": "execute_result"
    }
   ],
   "source": [
    "solution2()"
   ]
  },
  {
   "cell_type": "markdown",
   "id": "02c71fa5-f00b-4951-a862-cb3cc6f9595d",
   "metadata": {},
   "source": [
    "## Single Number-Amazon-Leetcode"
   ]
  },
  {
   "cell_type": "code",
   "execution_count": 99,
   "id": "0a3cb28a-f90d-42b0-be62-7165dd229b93",
   "metadata": {},
   "outputs": [],
   "source": [
    "def singleNumber():\n",
    "    myList=[1,1,2,2,3]\n",
    "    result=0\n",
    "    for num in myList:\n",
    "        result=num ^ result\n",
    "    return result"
   ]
  },
  {
   "cell_type": "code",
   "execution_count": 100,
   "id": "86787c9c-0c35-4182-8d24-81fb987a0de7",
   "metadata": {},
   "outputs": [
    {
     "data": {
      "text/plain": [
       "3"
      ]
     },
     "execution_count": 100,
     "metadata": {},
     "output_type": "execute_result"
    }
   ],
   "source": [
    "singleNumber()"
   ]
  },
  {
   "cell_type": "code",
   "execution_count": null,
   "id": "98658ee4-6c7e-4461-8e22-2af75b555e26",
   "metadata": {},
   "outputs": [],
   "source": []
  },
  {
   "cell_type": "code",
   "execution_count": null,
   "id": "241b9e71-4a6a-4c94-b55f-5fb1e5d4222a",
   "metadata": {},
   "outputs": [],
   "source": []
  },
  {
   "cell_type": "code",
   "execution_count": null,
   "id": "37f04dc8-9735-4bca-95fe-8a6c7b8a2fca",
   "metadata": {},
   "outputs": [],
   "source": []
  },
  {
   "cell_type": "code",
   "execution_count": null,
   "id": "1bb548da-cc27-4cc7-a5a7-d2768f500693",
   "metadata": {},
   "outputs": [],
   "source": []
  },
  {
   "cell_type": "code",
   "execution_count": null,
   "id": "e9551e1f-9728-4223-8333-6455ad57f3e0",
   "metadata": {},
   "outputs": [],
   "source": []
  },
  {
   "cell_type": "code",
   "execution_count": null,
   "id": "01d97a3f-c27e-4bb6-bf7f-bdaf6d2fc980",
   "metadata": {},
   "outputs": [],
   "source": []
  },
  {
   "cell_type": "code",
   "execution_count": null,
   "id": "97025cab-142c-4889-b1c1-8fe2084a0b52",
   "metadata": {},
   "outputs": [],
   "source": []
  },
  {
   "cell_type": "code",
   "execution_count": null,
   "id": "eae0dec5-e1b3-4737-a7b7-adc222e67877",
   "metadata": {},
   "outputs": [],
   "source": []
  },
  {
   "cell_type": "code",
   "execution_count": null,
   "id": "979f6950-8255-4fd9-bfc2-ca7a873ae18e",
   "metadata": {},
   "outputs": [],
   "source": []
  },
  {
   "cell_type": "code",
   "execution_count": null,
   "id": "bcbd795a-af8f-42a1-8c74-0904a049c804",
   "metadata": {},
   "outputs": [],
   "source": []
  },
  {
   "cell_type": "code",
   "execution_count": null,
   "id": "698f49bc-9bc4-4ac6-afff-228dd94e8de4",
   "metadata": {},
   "outputs": [],
   "source": []
  },
  {
   "cell_type": "code",
   "execution_count": null,
   "id": "e21bae48-7d39-48a5-8f1c-2b0f543a1250",
   "metadata": {},
   "outputs": [],
   "source": []
  },
  {
   "cell_type": "code",
   "execution_count": null,
   "id": "e866868d-68f6-4135-aea9-56b55c1447d0",
   "metadata": {},
   "outputs": [],
   "source": []
  },
  {
   "cell_type": "code",
   "execution_count": null,
   "id": "1efd70b8-fd73-4261-b89b-cfc74ba4aa1f",
   "metadata": {},
   "outputs": [],
   "source": []
  }
 ],
 "metadata": {
  "kernelspec": {
   "display_name": "Python 3 (ipykernel)",
   "language": "python",
   "name": "python3"
  },
  "language_info": {
   "codemirror_mode": {
    "name": "ipython",
    "version": 3
   },
   "file_extension": ".py",
   "mimetype": "text/x-python",
   "name": "python",
   "nbconvert_exporter": "python",
   "pygments_lexer": "ipython3",
   "version": "3.9.12"
  }
 },
 "nbformat": 4,
 "nbformat_minor": 5
}
